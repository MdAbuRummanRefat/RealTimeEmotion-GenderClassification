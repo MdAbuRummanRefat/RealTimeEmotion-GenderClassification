{
  "nbformat": 4,
  "nbformat_minor": 0,
  "metadata": {
    "colab": {
      "name": "EmotionClassification.ipynb",
      "provenance": [],
      "include_colab_link": true
    },
    "kernelspec": {
      "name": "python3",
      "display_name": "Python 3"
    },
    "accelerator": "GPU"
  },
  "cells": [
    {
      "cell_type": "markdown",
      "metadata": {
        "id": "view-in-github",
        "colab_type": "text"
      },
      "source": [
        "<a href=\"https://colab.research.google.com/github/MdAbuRummanRefat/RealTimeEmotion-GenderClassification/blob/main/EmotionClassification.ipynb\" target=\"_parent\"><img src=\"https://colab.research.google.com/assets/colab-badge.svg\" alt=\"Open In Colab\"/></a>"
      ]
    },
    {
      "cell_type": "code",
      "metadata": {
        "id": "NqSL4Qcf980j",
        "outputId": "1719494c-bf25-44ae-a1e0-97296f1273ca",
        "colab": {
          "base_uri": "https://localhost:8080/",
          "height": 54
        }
      },
      "source": [
        "from google.colab import drive\n",
        "drive.mount('/content/drive')"
      ],
      "execution_count": null,
      "outputs": [
        {
          "output_type": "stream",
          "text": [
            "Drive already mounted at /content/drive; to attempt to forcibly remount, call drive.mount(\"/content/drive\", force_remount=True).\n"
          ],
          "name": "stdout"
        }
      ]
    },
    {
      "cell_type": "code",
      "metadata": {
        "id": "ltIjC5Zc_JdF"
      },
      "source": [
        "import pandas as pd\n",
        "import numpy as np\n",
        "import matplotlib.pyplot as plt"
      ],
      "execution_count": null,
      "outputs": []
    },
    {
      "cell_type": "code",
      "metadata": {
        "id": "0M98AreCPyaO",
        "outputId": "2cb1273b-35d1-4b9e-8d01-f591f727e25d",
        "colab": {
          "base_uri": "https://localhost:8080/",
          "height": 204
        }
      },
      "source": [
        "data=pd.read_csv('/content/drive/My Drive/Project/fer2013.csv')\n",
        "data.head(5)"
      ],
      "execution_count": null,
      "outputs": [
        {
          "output_type": "execute_result",
          "data": {
            "text/html": [
              "<div>\n",
              "<style scoped>\n",
              "    .dataframe tbody tr th:only-of-type {\n",
              "        vertical-align: middle;\n",
              "    }\n",
              "\n",
              "    .dataframe tbody tr th {\n",
              "        vertical-align: top;\n",
              "    }\n",
              "\n",
              "    .dataframe thead th {\n",
              "        text-align: right;\n",
              "    }\n",
              "</style>\n",
              "<table border=\"1\" class=\"dataframe\">\n",
              "  <thead>\n",
              "    <tr style=\"text-align: right;\">\n",
              "      <th></th>\n",
              "      <th>emotion</th>\n",
              "      <th>pixels</th>\n",
              "      <th>Usage</th>\n",
              "    </tr>\n",
              "  </thead>\n",
              "  <tbody>\n",
              "    <tr>\n",
              "      <th>0</th>\n",
              "      <td>0</td>\n",
              "      <td>70 80 82 72 58 58 60 63 54 58 60 48 89 115 121...</td>\n",
              "      <td>Training</td>\n",
              "    </tr>\n",
              "    <tr>\n",
              "      <th>1</th>\n",
              "      <td>0</td>\n",
              "      <td>151 150 147 155 148 133 111 140 170 174 182 15...</td>\n",
              "      <td>Training</td>\n",
              "    </tr>\n",
              "    <tr>\n",
              "      <th>2</th>\n",
              "      <td>2</td>\n",
              "      <td>231 212 156 164 174 138 161 173 182 200 106 38...</td>\n",
              "      <td>Training</td>\n",
              "    </tr>\n",
              "    <tr>\n",
              "      <th>3</th>\n",
              "      <td>4</td>\n",
              "      <td>24 32 36 30 32 23 19 20 30 41 21 22 32 34 21 1...</td>\n",
              "      <td>Training</td>\n",
              "    </tr>\n",
              "    <tr>\n",
              "      <th>4</th>\n",
              "      <td>6</td>\n",
              "      <td>4 0 0 0 0 0 0 0 0 0 0 0 3 15 23 28 48 50 58 84...</td>\n",
              "      <td>Training</td>\n",
              "    </tr>\n",
              "  </tbody>\n",
              "</table>\n",
              "</div>"
            ],
            "text/plain": [
              "   emotion                                             pixels     Usage\n",
              "0        0  70 80 82 72 58 58 60 63 54 58 60 48 89 115 121...  Training\n",
              "1        0  151 150 147 155 148 133 111 140 170 174 182 15...  Training\n",
              "2        2  231 212 156 164 174 138 161 173 182 200 106 38...  Training\n",
              "3        4  24 32 36 30 32 23 19 20 30 41 21 22 32 34 21 1...  Training\n",
              "4        6  4 0 0 0 0 0 0 0 0 0 0 0 3 15 23 28 48 50 58 84...  Training"
            ]
          },
          "metadata": {
            "tags": []
          },
          "execution_count": 3
        }
      ]
    },
    {
      "cell_type": "code",
      "metadata": {
        "id": "td19KUE-Pyez",
        "outputId": "71768b7c-ca27-4a03-a691-5d379edc6be8",
        "colab": {
          "base_uri": "https://localhost:8080/",
          "height": 266
        }
      },
      "source": [
        "labels = {0: 'Angry', 1: 'Digust', 2: 'Fear', 3: 'Happy', 4: 'Sad', 5: 'Surprise', 6: 'Neutral'}\n",
        "emotion_counts = data['emotion'].value_counts().reset_index()\n",
        "emotion_counts.columns = ['emotion', 'number']\n",
        "emotion_counts['emotion'] = emotion_counts['emotion'].map(labels)\n",
        "emotion_counts"
      ],
      "execution_count": null,
      "outputs": [
        {
          "output_type": "execute_result",
          "data": {
            "text/html": [
              "<div>\n",
              "<style scoped>\n",
              "    .dataframe tbody tr th:only-of-type {\n",
              "        vertical-align: middle;\n",
              "    }\n",
              "\n",
              "    .dataframe tbody tr th {\n",
              "        vertical-align: top;\n",
              "    }\n",
              "\n",
              "    .dataframe thead th {\n",
              "        text-align: right;\n",
              "    }\n",
              "</style>\n",
              "<table border=\"1\" class=\"dataframe\">\n",
              "  <thead>\n",
              "    <tr style=\"text-align: right;\">\n",
              "      <th></th>\n",
              "      <th>emotion</th>\n",
              "      <th>number</th>\n",
              "    </tr>\n",
              "  </thead>\n",
              "  <tbody>\n",
              "    <tr>\n",
              "      <th>0</th>\n",
              "      <td>Happy</td>\n",
              "      <td>8989</td>\n",
              "    </tr>\n",
              "    <tr>\n",
              "      <th>1</th>\n",
              "      <td>Neutral</td>\n",
              "      <td>6198</td>\n",
              "    </tr>\n",
              "    <tr>\n",
              "      <th>2</th>\n",
              "      <td>Sad</td>\n",
              "      <td>6077</td>\n",
              "    </tr>\n",
              "    <tr>\n",
              "      <th>3</th>\n",
              "      <td>Fear</td>\n",
              "      <td>5121</td>\n",
              "    </tr>\n",
              "    <tr>\n",
              "      <th>4</th>\n",
              "      <td>Angry</td>\n",
              "      <td>4953</td>\n",
              "    </tr>\n",
              "    <tr>\n",
              "      <th>5</th>\n",
              "      <td>Surprise</td>\n",
              "      <td>4002</td>\n",
              "    </tr>\n",
              "    <tr>\n",
              "      <th>6</th>\n",
              "      <td>Digust</td>\n",
              "      <td>547</td>\n",
              "    </tr>\n",
              "  </tbody>\n",
              "</table>\n",
              "</div>"
            ],
            "text/plain": [
              "    emotion  number\n",
              "0     Happy    8989\n",
              "1   Neutral    6198\n",
              "2       Sad    6077\n",
              "3      Fear    5121\n",
              "4     Angry    4953\n",
              "5  Surprise    4002\n",
              "6    Digust     547"
            ]
          },
          "metadata": {
            "tags": []
          },
          "execution_count": 4
        }
      ]
    },
    {
      "cell_type": "code",
      "metadata": {
        "id": "PkV-QNovPyYH",
        "outputId": "d65c2c77-820b-4f58-c4d5-963efdb749ab",
        "colab": {
          "base_uri": "https://localhost:8080/",
          "height": 554
        }
      },
      "source": [
        "def row2image(row):\n",
        "    pixels, emotion = row['pixels'], labels[row['emotion']]\n",
        "    img = np.array(pixels.split())\n",
        "    img = img.reshape(48,48)\n",
        "    image = np.zeros((48,48,3))\n",
        "    image[:,:,0] = img\n",
        "    image[:,:,1] = img\n",
        "    image[:,:,2] = img\n",
        "    return np.array([image.astype(np.uint8), emotion])\n",
        "\n",
        "plt.figure(0, figsize=(16,10))\n",
        "for i in range(1,8):\n",
        "    face = data[data['emotion'] == i-1].iloc[0]\n",
        "    img = row2image(face)\n",
        "    plt.subplot(2,4,i)\n",
        "    plt.imshow(img[0])\n",
        "    plt.title(img[1])\n",
        "\n",
        "plt.show()"
      ],
      "execution_count": null,
      "outputs": [
        {
          "output_type": "display_data",
          "data": {
            "image/png": "[encoded data removed]",
            "text/plain": [
              "<Figure size 1152x720 with 7 Axes>"
            ]
          },
          "metadata": {
            "tags": [],
            "needs_background": "light"
          }
        }
      ]
    },
    {
      "cell_type": "code",
      "metadata": {
        "id": "4tyT-kYQ95up"
      },
      "source": [
        "data_train = data[data['Usage']=='Training'].copy()\n",
        "data_val   = data[data['Usage']=='PublicTest'].copy()\n",
        "data_test  = data[data['Usage']=='PrivateTest'].copy()"
      ],
      "execution_count": null,
      "outputs": []
    },
    {
      "cell_type": "code",
      "metadata": {
        "id": "D5LTjLCOPyQ_"
      },
      "source": [
        "from keras.utils import to_categorical\n",
        "def pre_Processing(data):\n",
        "    temp = data.pixels.apply(lambda row: [float(p) for p in row.split()])\n",
        "    X = np.array(temp.tolist())\n",
        "    X = X.reshape(-1,48,48,1)\n",
        "    X = X/255.0\n",
        "    Y = to_categorical(data['emotion'], len(labels)) \n",
        "    return X,Y\n",
        "\n",
        "X_train,y_train = pre_Processing(data_train)\n",
        "X_test,y_test = pre_Processing(data_test)\n",
        "X_val,y_val = pre_Processing(data_val)"
      ],
      "execution_count": null,
      "outputs": []
    },
    {
      "cell_type": "code",
      "metadata": {
        "id": "h0PZuIUv-Tsh",
        "outputId": "abf03736-78d9-4710-b55e-aeb6c27ac8f4",
        "colab": {
          "base_uri": "https://localhost:8080/",
          "height": 68
        }
      },
      "source": [
        "X_train=X_train/255.0\n",
        "X_val=X_val/255.0\n",
        "X_test=X_test/255.0\n",
        "print(np.shape(X_train))\n",
        "print(np.shape(X_val))\n",
        "print(np.shape(X_test))"
      ],
      "execution_count": null,
      "outputs": [
        {
          "output_type": "stream",
          "text": [
            "(28709, 48, 48, 1)\n",
            "(3589, 48, 48, 1)\n",
            "(3589, 48, 48, 1)\n"
          ],
          "name": "stdout"
        }
      ]
    },
    {
      "cell_type": "code",
      "metadata": {
        "id": "5PT0vbO_YK4Z"
      },
      "source": [
        "from keras.layers import Activation, Convolution2D, Dropout, Conv2D\n",
        "from keras.layers import AveragePooling2D, BatchNormalization\n",
        "from keras.layers import GlobalAveragePooling2D\n",
        "from keras.models import Sequential\n",
        "from keras.layers import Flatten\n",
        "from keras.models import Model\n",
        "from keras.layers import Input\n",
        "from keras.layers import MaxPooling2D\n",
        "from keras.layers import SeparableConv2D\n",
        "from keras import layers\n",
        "from keras.regularizers import l2"
      ],
      "execution_count": null,
      "outputs": []
    },
    {
      "cell_type": "code",
      "metadata": {
        "id": "w2v7oDJR-dUV"
      },
      "source": [
        "def mini_XCEPTION(input_shape, num_classes, l2_regularization=0.01):\n",
        "    regularization = l2(l2_regularization)\n",
        "\n",
        "    # base\n",
        "    img_input = Input(input_shape)\n",
        "    x = Conv2D(8, (3, 3), strides=(1, 1), kernel_regularizer=regularization,\n",
        "               use_bias=False)(img_input)\n",
        "    x = BatchNormalization()(x)\n",
        "    x = Activation('relu')(x)\n",
        "    x = Conv2D(8, (3, 3), strides=(1, 1), kernel_regularizer=regularization,\n",
        "               use_bias=False)(x)\n",
        "    x = BatchNormalization()(x)\n",
        "    x = Activation('relu')(x)\n",
        "\n",
        "    # module 1\n",
        "    residual = Conv2D(16, (1, 1), strides=(2, 2),\n",
        "                      padding='same', use_bias=False)(x)\n",
        "    residual = BatchNormalization()(residual)\n",
        "\n",
        "    x = SeparableConv2D(16, (3, 3), padding='same',\n",
        "                        kernel_regularizer=regularization,\n",
        "                        use_bias=False)(x)\n",
        "    x = BatchNormalization()(x)\n",
        "    x = Activation('relu')(x)\n",
        "    x = SeparableConv2D(16, (3, 3), padding='same',\n",
        "                        kernel_regularizer=regularization,\n",
        "                        use_bias=False)(x)\n",
        "    x = BatchNormalization()(x)\n",
        "\n",
        "    x = MaxPooling2D((3, 3), strides=(2, 2), padding='same')(x)\n",
        "    x = layers.add([x, residual])\n",
        "\n",
        "    # module 2\n",
        "    residual = Conv2D(32, (1, 1), strides=(2, 2),\n",
        "                      padding='same', use_bias=False)(x)\n",
        "    residual = BatchNormalization()(residual)\n",
        "\n",
        "    x = SeparableConv2D(32, (3, 3), padding='same',\n",
        "                        kernel_regularizer=regularization,\n",
        "                        use_bias=False)(x)\n",
        "    x = BatchNormalization()(x)\n",
        "    x = Activation('relu')(x)\n",
        "    x = SeparableConv2D(32, (3, 3), padding='same',\n",
        "                        kernel_regularizer=regularization,\n",
        "                        use_bias=False)(x)\n",
        "    x = BatchNormalization()(x)\n",
        "\n",
        "    x = MaxPooling2D((3, 3), strides=(2, 2), padding='same')(x)\n",
        "    x = layers.add([x, residual])\n",
        "\n",
        "    # module 3\n",
        "    residual = Conv2D(64, (1, 1), strides=(2, 2),\n",
        "                      padding='same', use_bias=False)(x)\n",
        "    residual = BatchNormalization()(residual)\n",
        "\n",
        "    x = SeparableConv2D(64, (3, 3), padding='same',\n",
        "                        kernel_regularizer=regularization,\n",
        "                        use_bias=False)(x)\n",
        "    x = BatchNormalization()(x)\n",
        "    x = Activation('relu')(x)\n",
        "    x = SeparableConv2D(64, (3, 3), padding='same',\n",
        "                        kernel_regularizer=regularization,\n",
        "                        use_bias=False)(x)\n",
        "    x = BatchNormalization()(x)\n",
        "\n",
        "    x = MaxPooling2D((3, 3), strides=(2, 2), padding='same')(x)\n",
        "    x = layers.add([x, residual])\n",
        "\n",
        "    # module 4\n",
        "    residual = Conv2D(128, (1, 1), strides=(2, 2),\n",
        "                      padding='same', use_bias=False)(x)\n",
        "    residual = BatchNormalization()(residual)\n",
        "\n",
        "    x = SeparableConv2D(128, (3, 3), padding='same',\n",
        "                        kernel_regularizer=regularization,\n",
        "                        use_bias=False)(x)\n",
        "    x = BatchNormalization()(x)\n",
        "    x = Activation('relu')(x)\n",
        "    x = SeparableConv2D(128, (3, 3), padding='same',\n",
        "                        kernel_regularizer=regularization,\n",
        "                        use_bias=False)(x)\n",
        "    x = BatchNormalization()(x)\n",
        "\n",
        "    x = MaxPooling2D((3, 3), strides=(2, 2), padding='same')(x)\n",
        "    x = layers.add([x, residual])\n",
        "\n",
        "    x = Conv2D(num_classes, (3, 3),\n",
        "               # kernel_regularizer=regularization,\n",
        "               padding='same')(x)\n",
        "    x = GlobalAveragePooling2D()(x)\n",
        "    output = Activation('softmax', name='predictions')(x)\n",
        "\n",
        "    model = Model(img_input, output)\n",
        "    return model"
      ],
      "execution_count": null,
      "outputs": []
    },
    {
      "cell_type": "code",
      "metadata": {
        "id": "MceXzrIV-hYt"
      },
      "source": [
        "# parameters\n",
        "batch_size = 32\n",
        "num_epochs = 110\n",
        "input_shape = (48, 48, 1)\n",
        "verbose = 1\n",
        "num_classes = 7\n",
        "patience = 50"
      ],
      "execution_count": null,
      "outputs": []
    },
    {
      "cell_type": "code",
      "metadata": {
        "id": "iYxzXM3W_Vmj",
        "outputId": "940a6aa8-4aec-4d0a-d31f-448143639b29",
        "colab": {
          "base_uri": "https://localhost:8080/",
          "height": 1000
        }
      },
      "source": [
        "# model parameters/compilation\n",
        "model = mini_XCEPTION(input_shape, num_classes)\n",
        "model.compile(optimizer='adam', loss='categorical_crossentropy',\n",
        "              metrics=['accuracy'])\n",
        "model.summary()"
      ],
      "execution_count": null,
      "outputs": [
        {
          "output_type": "stream",
          "text": [
            "Model: \"functional_1\"\n",
            "__________________________________________________________________________________________________\n",
            "Layer (type)                    Output Shape         Param #     Connected to                     \n",
            "==================================================================================================\n",
            "input_1 (InputLayer)            [(None, 48, 48, 1)]  0                                            \n",
            "__________________________________________________________________________________________________\n",
            "conv2d (Conv2D)                 (None, 46, 46, 8)    72          input_1[0][0]                    \n",
            "__________________________________________________________________________________________________\n",
            "batch_normalization (BatchNorma (None, 46, 46, 8)    32          conv2d[0][0]                     \n",
            "__________________________________________________________________________________________________\n",
            "activation (Activation)         (None, 46, 46, 8)    0           batch_normalization[0][0]        \n",
            "__________________________________________________________________________________________________\n",
            "conv2d_1 (Conv2D)               (None, 44, 44, 8)    576         activation[0][0]                 \n",
            "__________________________________________________________________________________________________\n",
            "batch_normalization_1 (BatchNor (None, 44, 44, 8)    32          conv2d_1[0][0]                   \n",
            "__________________________________________________________________________________________________\n",
            "activation_1 (Activation)       (None, 44, 44, 8)    0           batch_normalization_1[0][0]      \n",
            "__________________________________________________________________________________________________\n",
            "separable_conv2d (SeparableConv (None, 44, 44, 16)   200         activation_1[0][0]               \n",
            "__________________________________________________________________________________________________\n",
            "batch_normalization_3 (BatchNor (None, 44, 44, 16)   64          separable_conv2d[0][0]           \n",
            "__________________________________________________________________________________________________\n",
            "activation_2 (Activation)       (None, 44, 44, 16)   0           batch_normalization_3[0][0]      \n",
            "__________________________________________________________________________________________________\n",
            "separable_conv2d_1 (SeparableCo (None, 44, 44, 16)   400         activation_2[0][0]               \n",
            "__________________________________________________________________________________________________\n",
            "batch_normalization_4 (BatchNor (None, 44, 44, 16)   64          separable_conv2d_1[0][0]         \n",
            "__________________________________________________________________________________________________\n",
            "conv2d_2 (Conv2D)               (None, 22, 22, 16)   128         activation_1[0][0]               \n",
            "__________________________________________________________________________________________________\n",
            "max_pooling2d (MaxPooling2D)    (None, 22, 22, 16)   0           batch_normalization_4[0][0]      \n",
            "__________________________________________________________________________________________________\n",
            "batch_normalization_2 (BatchNor (None, 22, 22, 16)   64          conv2d_2[0][0]                   \n",
            "__________________________________________________________________________________________________\n",
            "add (Add)                       (None, 22, 22, 16)   0           max_pooling2d[0][0]              \n",
            "                                                                 batch_normalization_2[0][0]      \n",
            "__________________________________________________________________________________________________\n",
            "separable_conv2d_2 (SeparableCo (None, 22, 22, 32)   656         add[0][0]                        \n",
            "__________________________________________________________________________________________________\n",
            "batch_normalization_6 (BatchNor (None, 22, 22, 32)   128         separable_conv2d_2[0][0]         \n",
            "__________________________________________________________________________________________________\n",
            "activation_3 (Activation)       (None, 22, 22, 32)   0           batch_normalization_6[0][0]      \n",
            "__________________________________________________________________________________________________\n",
            "separable_conv2d_3 (SeparableCo (None, 22, 22, 32)   1312        activation_3[0][0]               \n",
            "__________________________________________________________________________________________________\n",
            "batch_normalization_7 (BatchNor (None, 22, 22, 32)   128         separable_conv2d_3[0][0]         \n",
            "__________________________________________________________________________________________________\n",
            "conv2d_3 (Conv2D)               (None, 11, 11, 32)   512         add[0][0]                        \n",
            "__________________________________________________________________________________________________\n",
            "max_pooling2d_1 (MaxPooling2D)  (None, 11, 11, 32)   0           batch_normalization_7[0][0]      \n",
            "__________________________________________________________________________________________________\n",
            "batch_normalization_5 (BatchNor (None, 11, 11, 32)   128         conv2d_3[0][0]                   \n",
            "__________________________________________________________________________________________________\n",
            "add_1 (Add)                     (None, 11, 11, 32)   0           max_pooling2d_1[0][0]            \n",
            "                                                                 batch_normalization_5[0][0]      \n",
            "__________________________________________________________________________________________________\n",
            "separable_conv2d_4 (SeparableCo (None, 11, 11, 64)   2336        add_1[0][0]                      \n",
            "__________________________________________________________________________________________________\n",
            "batch_normalization_9 (BatchNor (None, 11, 11, 64)   256         separable_conv2d_4[0][0]         \n",
            "__________________________________________________________________________________________________\n",
            "activation_4 (Activation)       (None, 11, 11, 64)   0           batch_normalization_9[0][0]      \n",
            "__________________________________________________________________________________________________\n",
            "separable_conv2d_5 (SeparableCo (None, 11, 11, 64)   4672        activation_4[0][0]               \n",
            "__________________________________________________________________________________________________\n",
            "batch_normalization_10 (BatchNo (None, 11, 11, 64)   256         separable_conv2d_5[0][0]         \n",
            "__________________________________________________________________________________________________\n",
            "conv2d_4 (Conv2D)               (None, 6, 6, 64)     2048        add_1[0][0]                      \n",
            "__________________________________________________________________________________________________\n",
            "max_pooling2d_2 (MaxPooling2D)  (None, 6, 6, 64)     0           batch_normalization_10[0][0]     \n",
            "__________________________________________________________________________________________________\n",
            "batch_normalization_8 (BatchNor (None, 6, 6, 64)     256         conv2d_4[0][0]                   \n",
            "__________________________________________________________________________________________________\n",
            "add_2 (Add)                     (None, 6, 6, 64)     0           max_pooling2d_2[0][0]            \n",
            "                                                                 batch_normalization_8[0][0]      \n",
            "__________________________________________________________________________________________________\n",
            "separable_conv2d_6 (SeparableCo (None, 6, 6, 128)    8768        add_2[0][0]                      \n",
            "__________________________________________________________________________________________________\n",
            "batch_normalization_12 (BatchNo (None, 6, 6, 128)    512         separable_conv2d_6[0][0]         \n",
            "__________________________________________________________________________________________________\n",
            "activation_5 (Activation)       (None, 6, 6, 128)    0           batch_normalization_12[0][0]     \n",
            "__________________________________________________________________________________________________\n",
            "separable_conv2d_7 (SeparableCo (None, 6, 6, 128)    17536       activation_5[0][0]               \n",
            "__________________________________________________________________________________________________\n",
            "batch_normalization_13 (BatchNo (None, 6, 6, 128)    512         separable_conv2d_7[0][0]         \n",
            "__________________________________________________________________________________________________\n",
            "conv2d_5 (Conv2D)               (None, 3, 3, 128)    8192        add_2[0][0]                      \n",
            "__________________________________________________________________________________________________\n",
            "max_pooling2d_3 (MaxPooling2D)  (None, 3, 3, 128)    0           batch_normalization_13[0][0]     \n",
            "__________________________________________________________________________________________________\n",
            "batch_normalization_11 (BatchNo (None, 3, 3, 128)    512         conv2d_5[0][0]                   \n",
            "__________________________________________________________________________________________________\n",
            "add_3 (Add)                     (None, 3, 3, 128)    0           max_pooling2d_3[0][0]            \n",
            "                                                                 batch_normalization_11[0][0]     \n",
            "__________________________________________________________________________________________________\n",
            "conv2d_6 (Conv2D)               (None, 3, 3, 7)      8071        add_3[0][0]                      \n",
            "__________________________________________________________________________________________________\n",
            "global_average_pooling2d (Globa (None, 7)            0           conv2d_6[0][0]                   \n",
            "__________________________________________________________________________________________________\n",
            "predictions (Activation)        (None, 7)            0           global_average_pooling2d[0][0]   \n",
            "==================================================================================================\n",
            "Total params: 58,423\n",
            "Trainable params: 56,951\n",
            "Non-trainable params: 1,472\n",
            "__________________________________________________________________________________________________\n"
          ],
          "name": "stdout"
        }
      ]
    },
    {
      "cell_type": "code",
      "metadata": {
        "id": "IacTchC1_w-Y"
      },
      "source": [
        "from keras.preprocessing.image import ImageDataGenerator\n",
        "# data generator\n",
        "data_generator = ImageDataGenerator(\n",
        "                        featurewise_center=False,\n",
        "                        featurewise_std_normalization=False,\n",
        "                        rotation_range=10,\n",
        "                        width_shift_range=0.1,\n",
        "                        height_shift_range=0.1,\n",
        "                        zoom_range=.1,\n",
        "                        horizontal_flip=True)"
      ],
      "execution_count": null,
      "outputs": []
    },
    {
      "cell_type": "code",
      "metadata": {
        "id": "X9u4UubBBlIj"
      },
      "source": [
        "\n",
        "from keras.callbacks import CSVLogger, ModelCheckpoint, EarlyStopping\n",
        "from keras.callbacks import ReduceLROnPlateau\n",
        "\n",
        "reduce_lr = ReduceLROnPlateau('val_loss', factor=0.1,\n",
        "                                  patience=int(patience/4), verbose=1)"
      ],
      "execution_count": null,
      "outputs": []
    },
    {
      "cell_type": "code",
      "metadata": {
        "id": "mry-HtEaCXAj",
        "outputId": "efce20fb-406f-4a0f-cd79-1aad7c5602b7",
        "colab": {
          "base_uri": "https://localhost:8080/",
          "height": 1000
        }
      },
      "source": [
        "model.fit(data_generator.flow(X_train, y_train,batch_size),\n",
        "                        steps_per_epoch=len(X_train) // batch_size,\n",
        "                        epochs=num_epochs, verbose=1, callbacks=[reduce_lr],\n",
        "                        validation_data=(X_val,y_val))"
      ],
      "execution_count": null,
      "outputs": [
        {
          "output_type": "stream",
          "text": [
            "Epoch 1/110\n",
            "897/897 [==============================] - 18s 20ms/step - loss: 1.7804 - accuracy: 0.3246 - val_loss: 1.8490 - val_accuracy: 0.3767\n",
            "Epoch 2/110\n",
            "897/897 [==============================] - 18s 20ms/step - loss: 1.5148 - accuracy: 0.4310 - val_loss: 1.6323 - val_accuracy: 0.4199\n",
            "Epoch 3/110\n",
            "897/897 [==============================] - 18s 20ms/step - loss: 1.3895 - accuracy: 0.4761 - val_loss: 1.3795 - val_accuracy: 0.4851\n",
            "Epoch 4/110\n",
            "897/897 [==============================] - 18s 20ms/step - loss: 1.3245 - accuracy: 0.4987 - val_loss: 1.4676 - val_accuracy: 0.4461\n",
            "Epoch 5/110\n",
            "897/897 [==============================] - 18s 20ms/step - loss: 1.2745 - accuracy: 0.5196 - val_loss: 1.3792 - val_accuracy: 0.4762\n",
            "Epoch 6/110\n",
            "897/897 [==============================] - 18s 20ms/step - loss: 1.2430 - accuracy: 0.5321 - val_loss: 1.4344 - val_accuracy: 0.4854\n",
            "Epoch 7/110\n",
            "897/897 [==============================] - 18s 20ms/step - loss: 1.2159 - accuracy: 0.5407 - val_loss: 1.2519 - val_accuracy: 0.5372\n",
            "Epoch 8/110\n",
            "897/897 [==============================] - 18s 20ms/step - loss: 1.1934 - accuracy: 0.5482 - val_loss: 1.1823 - val_accuracy: 0.5598\n",
            "Epoch 9/110\n",
            "897/897 [==============================] - 18s 20ms/step - loss: 1.1675 - accuracy: 0.5618 - val_loss: 1.3462 - val_accuracy: 0.4879\n",
            "Epoch 10/110\n",
            "897/897 [==============================] - 17s 19ms/step - loss: 1.1567 - accuracy: 0.5662 - val_loss: 1.1396 - val_accuracy: 0.5726\n",
            "Epoch 11/110\n",
            "897/897 [==============================] - 17s 19ms/step - loss: 1.1400 - accuracy: 0.5684 - val_loss: 1.1975 - val_accuracy: 0.5603\n",
            "Epoch 12/110\n",
            "897/897 [==============================] - 17s 19ms/step - loss: 1.1274 - accuracy: 0.5741 - val_loss: 1.2212 - val_accuracy: 0.5472\n",
            "Epoch 13/110\n",
            "897/897 [==============================] - 18s 20ms/step - loss: 1.1150 - accuracy: 0.5810 - val_loss: 1.1805 - val_accuracy: 0.5511\n",
            "Epoch 14/110\n",
            "897/897 [==============================] - 18s 20ms/step - loss: 1.1002 - accuracy: 0.5859 - val_loss: 1.2581 - val_accuracy: 0.5380\n",
            "Epoch 15/110\n",
            "897/897 [==============================] - 18s 20ms/step - loss: 1.0926 - accuracy: 0.5899 - val_loss: 1.2316 - val_accuracy: 0.5453\n",
            "Epoch 16/110\n",
            "897/897 [==============================] - 18s 20ms/step - loss: 1.0851 - accuracy: 0.5937 - val_loss: 1.1565 - val_accuracy: 0.5665\n",
            "Epoch 17/110\n",
            "897/897 [==============================] - 18s 20ms/step - loss: 1.0787 - accuracy: 0.5926 - val_loss: 1.1398 - val_accuracy: 0.5726\n",
            "Epoch 18/110\n",
            "897/897 [==============================] - 18s 20ms/step - loss: 1.0675 - accuracy: 0.5983 - val_loss: 1.1673 - val_accuracy: 0.5592\n",
            "Epoch 19/110\n",
            "897/897 [==============================] - 17s 19ms/step - loss: 1.0579 - accuracy: 0.6006 - val_loss: 1.2165 - val_accuracy: 0.5536\n",
            "Epoch 20/110\n",
            "897/897 [==============================] - 18s 20ms/step - loss: 1.0570 - accuracy: 0.6038 - val_loss: 1.1415 - val_accuracy: 0.5737\n",
            "Epoch 21/110\n",
            "897/897 [==============================] - 18s 20ms/step - loss: 1.0478 - accuracy: 0.6056 - val_loss: 1.1469 - val_accuracy: 0.5929\n",
            "Epoch 22/110\n",
            "895/897 [============================>.] - ETA: 0s - loss: 1.0429 - accuracy: 0.6087\n",
            "Epoch 00022: ReduceLROnPlateau reducing learning rate to 0.00010000000474974513.\n",
            "897/897 [==============================] - 18s 20ms/step - loss: 1.0432 - accuracy: 0.6087 - val_loss: 1.2560 - val_accuracy: 0.5469\n",
            "Epoch 23/110\n",
            "897/897 [==============================] - 18s 20ms/step - loss: 0.9935 - accuracy: 0.6259 - val_loss: 1.0363 - val_accuracy: 0.6102\n",
            "Epoch 24/110\n",
            "897/897 [==============================] - 18s 20ms/step - loss: 0.9808 - accuracy: 0.6333 - val_loss: 1.0342 - val_accuracy: 0.6099\n",
            "Epoch 25/110\n",
            "897/897 [==============================] - 18s 20ms/step - loss: 0.9664 - accuracy: 0.6387 - val_loss: 1.0415 - val_accuracy: 0.6066\n",
            "Epoch 26/110\n",
            "897/897 [==============================] - 18s 20ms/step - loss: 0.9670 - accuracy: 0.6374 - val_loss: 1.0329 - val_accuracy: 0.6096\n",
            "Epoch 27/110\n",
            "897/897 [==============================] - 18s 20ms/step - loss: 0.9578 - accuracy: 0.6418 - val_loss: 1.0265 - val_accuracy: 0.6191\n",
            "Epoch 28/110\n",
            "897/897 [==============================] - 18s 20ms/step - loss: 0.9533 - accuracy: 0.6439 - val_loss: 1.0372 - val_accuracy: 0.6152\n",
            "Epoch 29/110\n",
            "897/897 [==============================] - 17s 19ms/step - loss: 0.9560 - accuracy: 0.6440 - val_loss: 1.0527 - val_accuracy: 0.6116\n",
            "Epoch 30/110\n",
            "897/897 [==============================] - 18s 20ms/step - loss: 0.9543 - accuracy: 0.6446 - val_loss: 1.0231 - val_accuracy: 0.6147\n",
            "Epoch 31/110\n",
            "897/897 [==============================] - 18s 20ms/step - loss: 0.9482 - accuracy: 0.6463 - val_loss: 1.0373 - val_accuracy: 0.6113\n",
            "Epoch 32/110\n",
            "897/897 [==============================] - 17s 19ms/step - loss: 0.9437 - accuracy: 0.6501 - val_loss: 1.0236 - val_accuracy: 0.6183\n",
            "Epoch 33/110\n",
            "897/897 [==============================] - 18s 20ms/step - loss: 0.9458 - accuracy: 0.6464 - val_loss: 1.0353 - val_accuracy: 0.6169\n",
            "Epoch 34/110\n",
            "897/897 [==============================] - 18s 20ms/step - loss: 0.9448 - accuracy: 0.6502 - val_loss: 1.0332 - val_accuracy: 0.6160\n",
            "Epoch 35/110\n",
            "897/897 [==============================] - 18s 20ms/step - loss: 0.9414 - accuracy: 0.6480 - val_loss: 1.0315 - val_accuracy: 0.6188\n",
            "Epoch 36/110\n",
            "897/897 [==============================] - 17s 20ms/step - loss: 0.9395 - accuracy: 0.6470 - val_loss: 1.0227 - val_accuracy: 0.6208\n",
            "Epoch 37/110\n",
            "897/897 [==============================] - 17s 19ms/step - loss: 0.9409 - accuracy: 0.6474 - val_loss: 1.0267 - val_accuracy: 0.6233\n",
            "Epoch 38/110\n",
            "897/897 [==============================] - 17s 19ms/step - loss: 0.9386 - accuracy: 0.6496 - val_loss: 1.0201 - val_accuracy: 0.6211\n",
            "Epoch 39/110\n",
            "897/897 [==============================] - 17s 19ms/step - loss: 0.9366 - accuracy: 0.6508 - val_loss: 1.0395 - val_accuracy: 0.6241\n",
            "Epoch 40/110\n",
            "897/897 [==============================] - 18s 20ms/step - loss: 0.9367 - accuracy: 0.6475 - val_loss: 1.0359 - val_accuracy: 0.6163\n",
            "Epoch 41/110\n",
            "897/897 [==============================] - 17s 19ms/step - loss: 0.9329 - accuracy: 0.6490 - val_loss: 1.0268 - val_accuracy: 0.6199\n",
            "Epoch 42/110\n",
            "897/897 [==============================] - 17s 19ms/step - loss: 0.9315 - accuracy: 0.6552 - val_loss: 1.0223 - val_accuracy: 0.6250\n",
            "Epoch 43/110\n",
            "897/897 [==============================] - 17s 19ms/step - loss: 0.9303 - accuracy: 0.6515 - val_loss: 1.0293 - val_accuracy: 0.6216\n",
            "Epoch 44/110\n",
            "897/897 [==============================] - 17s 19ms/step - loss: 0.9295 - accuracy: 0.6533 - val_loss: 1.0300 - val_accuracy: 0.6155\n",
            "Epoch 45/110\n",
            "897/897 [==============================] - 18s 20ms/step - loss: 0.9280 - accuracy: 0.6528 - val_loss: 1.0430 - val_accuracy: 0.6197\n",
            "Epoch 46/110\n",
            "897/897 [==============================] - 17s 19ms/step - loss: 0.9284 - accuracy: 0.6541 - val_loss: 1.0441 - val_accuracy: 0.6191\n",
            "Epoch 47/110\n",
            "897/897 [==============================] - 18s 20ms/step - loss: 0.9241 - accuracy: 0.6559 - val_loss: 1.0266 - val_accuracy: 0.6205\n",
            "Epoch 48/110\n",
            "897/897 [==============================] - 18s 20ms/step - loss: 0.9283 - accuracy: 0.6536 - val_loss: 1.0243 - val_accuracy: 0.6252\n",
            "Epoch 49/110\n",
            "897/897 [==============================] - 17s 19ms/step - loss: 0.9253 - accuracy: 0.6552 - val_loss: 1.0352 - val_accuracy: 0.6233\n",
            "Epoch 50/110\n",
            "897/897 [==============================] - ETA: 0s - loss: 0.9271 - accuracy: 0.6530\n",
            "Epoch 00050: ReduceLROnPlateau reducing learning rate to 1.0000000474974514e-05.\n",
            "897/897 [==============================] - 17s 19ms/step - loss: 0.9271 - accuracy: 0.6530 - val_loss: 1.0205 - val_accuracy: 0.6280\n",
            "Epoch 51/110\n",
            "897/897 [==============================] - 17s 19ms/step - loss: 0.9204 - accuracy: 0.6562 - val_loss: 1.0214 - val_accuracy: 0.6269\n",
            "Epoch 52/110\n",
            "897/897 [==============================] - 18s 20ms/step - loss: 0.9151 - accuracy: 0.6585 - val_loss: 1.0219 - val_accuracy: 0.6255\n",
            "Epoch 53/110\n",
            "897/897 [==============================] - 18s 20ms/step - loss: 0.9171 - accuracy: 0.6573 - val_loss: 1.0211 - val_accuracy: 0.6247\n",
            "Epoch 54/110\n",
            "897/897 [==============================] - 18s 20ms/step - loss: 0.9164 - accuracy: 0.6568 - val_loss: 1.0203 - val_accuracy: 0.6261\n",
            "Epoch 55/110\n",
            "897/897 [==============================] - 18s 20ms/step - loss: 0.9172 - accuracy: 0.6571 - val_loss: 1.0189 - val_accuracy: 0.6250\n",
            "Epoch 56/110\n",
            "897/897 [==============================] - 18s 20ms/step - loss: 0.9144 - accuracy: 0.6599 - val_loss: 1.0200 - val_accuracy: 0.6244\n",
            "Epoch 57/110\n",
            "897/897 [==============================] - 18s 20ms/step - loss: 0.9151 - accuracy: 0.6604 - val_loss: 1.0203 - val_accuracy: 0.6261\n",
            "Epoch 58/110\n",
            "897/897 [==============================] - 18s 20ms/step - loss: 0.9138 - accuracy: 0.6569 - val_loss: 1.0193 - val_accuracy: 0.6261\n",
            "Epoch 59/110\n",
            "897/897 [==============================] - 18s 20ms/step - loss: 0.9151 - accuracy: 0.6588 - val_loss: 1.0202 - val_accuracy: 0.6269\n",
            "Epoch 60/110\n",
            "897/897 [==============================] - 18s 20ms/step - loss: 0.9121 - accuracy: 0.6591 - val_loss: 1.0203 - val_accuracy: 0.6247\n",
            "Epoch 61/110\n",
            "897/897 [==============================] - 18s 20ms/step - loss: 0.9140 - accuracy: 0.6618 - val_loss: 1.0202 - val_accuracy: 0.6269\n",
            "Epoch 62/110\n",
            "897/897 [==============================] - 18s 20ms/step - loss: 0.9153 - accuracy: 0.6599 - val_loss: 1.0195 - val_accuracy: 0.6266\n",
            "Epoch 63/110\n",
            "897/897 [==============================] - 18s 20ms/step - loss: 0.9122 - accuracy: 0.6619 - val_loss: 1.0186 - val_accuracy: 0.6272\n",
            "Epoch 64/110\n",
            "897/897 [==============================] - 18s 20ms/step - loss: 0.9162 - accuracy: 0.6566 - val_loss: 1.0196 - val_accuracy: 0.6261\n",
            "Epoch 65/110\n",
            "897/897 [==============================] - 18s 20ms/step - loss: 0.9095 - accuracy: 0.6611 - val_loss: 1.0192 - val_accuracy: 0.6266\n",
            "Epoch 66/110\n",
            "897/897 [==============================] - 18s 20ms/step - loss: 0.9131 - accuracy: 0.6565 - val_loss: 1.0190 - val_accuracy: 0.6283\n",
            "Epoch 67/110\n",
            "897/897 [==============================] - 18s 20ms/step - loss: 0.9115 - accuracy: 0.6609 - val_loss: 1.0207 - val_accuracy: 0.6275\n",
            "Epoch 68/110\n",
            "897/897 [==============================] - 18s 20ms/step - loss: 0.9076 - accuracy: 0.6600 - val_loss: 1.0209 - val_accuracy: 0.6266\n",
            "Epoch 69/110\n",
            "897/897 [==============================] - 18s 20ms/step - loss: 0.9139 - accuracy: 0.6593 - val_loss: 1.0187 - val_accuracy: 0.6258\n",
            "Epoch 70/110\n",
            "897/897 [==============================] - 18s 20ms/step - loss: 0.9140 - accuracy: 0.6570 - val_loss: 1.0186 - val_accuracy: 0.6269\n",
            "Epoch 71/110\n",
            "897/897 [==============================] - 18s 20ms/step - loss: 0.9115 - accuracy: 0.6614 - val_loss: 1.0193 - val_accuracy: 0.6278\n",
            "Epoch 72/110\n",
            "897/897 [==============================] - 18s 20ms/step - loss: 0.9093 - accuracy: 0.6590 - val_loss: 1.0194 - val_accuracy: 0.6264\n",
            "Epoch 73/110\n",
            "897/897 [==============================] - 18s 20ms/step - loss: 0.9126 - accuracy: 0.6603 - val_loss: 1.0203 - val_accuracy: 0.6272\n",
            "Epoch 74/110\n",
            "897/897 [==============================] - 18s 20ms/step - loss: 0.9150 - accuracy: 0.6578 - val_loss: 1.0205 - val_accuracy: 0.6269\n",
            "Epoch 75/110\n",
            "896/897 [============================>.] - ETA: 0s - loss: 0.9121 - accuracy: 0.6587\n",
            "Epoch 00075: ReduceLROnPlateau reducing learning rate to 1.0000000656873453e-06.\n",
            "897/897 [==============================] - 18s 20ms/step - loss: 0.9121 - accuracy: 0.6589 - val_loss: 1.0193 - val_accuracy: 0.6272\n",
            "Epoch 76/110\n",
            "897/897 [==============================] - 18s 20ms/step - loss: 0.9090 - accuracy: 0.6620 - val_loss: 1.0209 - val_accuracy: 0.6266\n",
            "Epoch 77/110\n",
            "897/897 [==============================] - 18s 20ms/step - loss: 0.9085 - accuracy: 0.6629 - val_loss: 1.0202 - val_accuracy: 0.6272\n",
            "Epoch 78/110\n",
            "897/897 [==============================] - 18s 20ms/step - loss: 0.9089 - accuracy: 0.6576 - val_loss: 1.0194 - val_accuracy: 0.6278\n",
            "Epoch 79/110\n",
            "897/897 [==============================] - 18s 20ms/step - loss: 0.9168 - accuracy: 0.6562 - val_loss: 1.0200 - val_accuracy: 0.6275\n",
            "Epoch 80/110\n",
            "897/897 [==============================] - 18s 20ms/step - loss: 0.9078 - accuracy: 0.6607 - val_loss: 1.0203 - val_accuracy: 0.6272\n",
            "Epoch 81/110\n",
            "897/897 [==============================] - 18s 20ms/step - loss: 0.9052 - accuracy: 0.6647 - val_loss: 1.0202 - val_accuracy: 0.6278\n",
            "Epoch 82/110\n",
            "897/897 [==============================] - 18s 20ms/step - loss: 0.9070 - accuracy: 0.6591 - val_loss: 1.0207 - val_accuracy: 0.6289\n",
            "Epoch 83/110\n",
            "897/897 [==============================] - 18s 20ms/step - loss: 0.9072 - accuracy: 0.6589 - val_loss: 1.0196 - val_accuracy: 0.6272\n",
            "Epoch 84/110\n",
            "897/897 [==============================] - 18s 20ms/step - loss: 0.9110 - accuracy: 0.6623 - val_loss: 1.0210 - val_accuracy: 0.6286\n",
            "Epoch 85/110\n",
            "897/897 [==============================] - 18s 20ms/step - loss: 0.9102 - accuracy: 0.6616 - val_loss: 1.0201 - val_accuracy: 0.6280\n",
            "Epoch 86/110\n",
            "897/897 [==============================] - 18s 20ms/step - loss: 0.9045 - accuracy: 0.6618 - val_loss: 1.0199 - val_accuracy: 0.6275\n",
            "Epoch 87/110\n",
            "895/897 [============================>.] - ETA: 0s - loss: 0.9082 - accuracy: 0.6599\n",
            "Epoch 00087: ReduceLROnPlateau reducing learning rate to 1.0000001111620805e-07.\n",
            "897/897 [==============================] - 18s 20ms/step - loss: 0.9079 - accuracy: 0.6599 - val_loss: 1.0215 - val_accuracy: 0.6280\n",
            "Epoch 88/110\n",
            "897/897 [==============================] - 18s 20ms/step - loss: 0.9040 - accuracy: 0.6640 - val_loss: 1.0186 - val_accuracy: 0.6278\n",
            "Epoch 89/110\n",
            "897/897 [==============================] - 18s 20ms/step - loss: 0.9106 - accuracy: 0.6602 - val_loss: 1.0200 - val_accuracy: 0.6266\n",
            "Epoch 90/110\n",
            "897/897 [==============================] - 18s 20ms/step - loss: 0.9107 - accuracy: 0.6592 - val_loss: 1.0197 - val_accuracy: 0.6278\n",
            "Epoch 91/110\n",
            "897/897 [==============================] - 18s 20ms/step - loss: 0.9092 - accuracy: 0.6607 - val_loss: 1.0203 - val_accuracy: 0.6275\n",
            "Epoch 92/110\n",
            "897/897 [==============================] - 18s 20ms/step - loss: 0.9056 - accuracy: 0.6610 - val_loss: 1.0203 - val_accuracy: 0.6275\n",
            "Epoch 93/110\n",
            "897/897 [==============================] - 18s 20ms/step - loss: 0.9115 - accuracy: 0.6576 - val_loss: 1.0201 - val_accuracy: 0.6280\n",
            "Epoch 94/110\n",
            "897/897 [==============================] - 18s 20ms/step - loss: 0.9087 - accuracy: 0.6635 - val_loss: 1.0203 - val_accuracy: 0.6286\n",
            "Epoch 95/110\n",
            "897/897 [==============================] - 18s 20ms/step - loss: 0.9083 - accuracy: 0.6628 - val_loss: 1.0205 - val_accuracy: 0.6269\n",
            "Epoch 96/110\n",
            "897/897 [==============================] - 18s 20ms/step - loss: 0.9088 - accuracy: 0.6602 - val_loss: 1.0195 - val_accuracy: 0.6272\n",
            "Epoch 97/110\n",
            "897/897 [==============================] - 18s 20ms/step - loss: 0.9035 - accuracy: 0.6624 - val_loss: 1.0205 - val_accuracy: 0.6278\n",
            "Epoch 98/110\n",
            "897/897 [==============================] - 18s 20ms/step - loss: 0.9089 - accuracy: 0.6602 - val_loss: 1.0195 - val_accuracy: 0.6266\n",
            "Epoch 99/110\n",
            "895/897 [============================>.] - ETA: 0s - loss: 0.9097 - accuracy: 0.6618\n",
            "Epoch 00099: ReduceLROnPlateau reducing learning rate to 1.000000082740371e-08.\n",
            "897/897 [==============================] - 18s 21ms/step - loss: 0.9097 - accuracy: 0.6617 - val_loss: 1.0198 - val_accuracy: 0.6283\n",
            "Epoch 100/110\n",
            "897/897 [==============================] - 18s 20ms/step - loss: 0.9097 - accuracy: 0.6607 - val_loss: 1.0204 - val_accuracy: 0.6289\n",
            "Epoch 101/110\n",
            "897/897 [==============================] - 18s 20ms/step - loss: 0.9097 - accuracy: 0.6616 - val_loss: 1.0211 - val_accuracy: 0.6264\n",
            "Epoch 102/110\n",
            "897/897 [==============================] - 18s 20ms/step - loss: 0.9074 - accuracy: 0.6652 - val_loss: 1.0213 - val_accuracy: 0.6278\n",
            "Epoch 103/110\n",
            "897/897 [==============================] - 18s 20ms/step - loss: 0.9102 - accuracy: 0.6609 - val_loss: 1.0184 - val_accuracy: 0.6286\n",
            "Epoch 104/110\n",
            "897/897 [==============================] - 18s 20ms/step - loss: 0.9052 - accuracy: 0.6605 - val_loss: 1.0197 - val_accuracy: 0.6269\n",
            "Epoch 105/110\n",
            "897/897 [==============================] - 18s 20ms/step - loss: 0.9097 - accuracy: 0.6596 - val_loss: 1.0211 - val_accuracy: 0.6269\n",
            "Epoch 106/110\n",
            "897/897 [==============================] - 18s 20ms/step - loss: 0.9086 - accuracy: 0.6617 - val_loss: 1.0206 - val_accuracy: 0.6278\n",
            "Epoch 107/110\n",
            "897/897 [==============================] - 18s 20ms/step - loss: 0.9139 - accuracy: 0.6601 - val_loss: 1.0203 - val_accuracy: 0.6278\n",
            "Epoch 108/110\n",
            "897/897 [==============================] - 18s 20ms/step - loss: 0.9148 - accuracy: 0.6579 - val_loss: 1.0206 - val_accuracy: 0.6275\n",
            "Epoch 109/110\n",
            "897/897 [==============================] - 18s 20ms/step - loss: 0.9082 - accuracy: 0.6611 - val_loss: 1.0202 - val_accuracy: 0.6272\n",
            "Epoch 110/110\n",
            "897/897 [==============================] - 18s 20ms/step - loss: 0.9085 - accuracy: 0.6600 - val_loss: 1.0189 - val_accuracy: 0.6283\n"
          ],
          "name": "stdout"
        },
        {
          "output_type": "execute_result",
          "data": {
            "text/plain": [
              "<tensorflow.python.keras.callbacks.History at 0x7faba646ab38>"
            ]
          },
          "metadata": {
            "tags": []
          },
          "execution_count": 15
        }
      ]
    },
    {
      "cell_type": "code",
      "metadata": {
        "id": "gfDBRKqeA30t",
        "outputId": "cbff8a89-35ff-47a2-a6ac-068cfcd1bdc7",
        "colab": {
          "base_uri": "https://localhost:8080/",
          "height": 51
        }
      },
      "source": [
        "model.evaluate(X_test,y_test)"
      ],
      "execution_count": null,
      "outputs": [
        {
          "output_type": "stream",
          "text": [
            "113/113 [==============================] - 0s 3ms/step - loss: 0.9727 - accuracy: 0.6431\n"
          ],
          "name": "stdout"
        },
        {
          "output_type": "execute_result",
          "data": {
            "text/plain": [
              "[0.9726652503013611, 0.6430760622024536]"
            ]
          },
          "metadata": {
            "tags": []
          },
          "execution_count": 16
        }
      ]
    },
    {
      "cell_type": "code",
      "metadata": {
        "id": "c5y3JMYfERbj"
      },
      "source": [
        "model.save('/content/drive/My Drive/Project/Emotion_mini_XCEPTION.102-0.66.hdf5')"
      ],
      "execution_count": null,
      "outputs": []
    }
  ]
}
